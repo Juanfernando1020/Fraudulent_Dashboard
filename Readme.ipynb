# Fraudulent E-Commerce Transactions Dashboard

## Descripción del Proyecto

Dashboard interactivo construido con Streamlit para analizar transacciones de e-commerce, con especial enfoque en la detección de transacciones fraudulentas. Permite visualizar y filtrar datos, mostrando métricas clave, distribuciones y patrones geográficos.

## Características Principales

- 📊 Visualización interactiva de transacciones
- 🔍 Detección de fraudes con filtros avanzados
- 🌍 Mapa geográfico de transacciones
- 📈 Métricas en tiempo real
- 💡 Visualizaciones interactivas con Plotly

## Tecnologías Utilizadas

| Tecnología | Uso |
|------------|-----|
| ![Python](https://img.shields.io/badge/Python-3.8%2B-blue) | Lenguaje principal |
| ![Streamlit](https://img.shields.io/badge/Streamlit-1.0%2B-FF4B4B) | Framework para dashboard web |
| ![Pandas](https://img.shields.io/badge/Pandas-1.3%2B-150458) | Procesamiento de datos |
| ![Plotly](https://img.shields.io/badge/Plotly-5.0%2B-3F4F75) | Visualizaciones interactivas |
| ![NumPy](https://img.shields.io/badge/NumPy-1.21%2B-013243) | Cálculos numéricos |
| ![Jupyter](https://img.shields.io/badge/Jupyter-F37626) | Análisis exploratorio |

Link de descarga del Dataset: https://www.kaggle.com/datasets/shriyashjagtap/fraudulent-e-commerce-transactions ( Version 1 ) 
