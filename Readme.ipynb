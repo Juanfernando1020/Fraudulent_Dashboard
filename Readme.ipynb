{
 "cells": [
  {
   "cell_type": "markdown",
   "id": "b4a26165",
   "metadata": {},
   "source": [
    "# Fraudulent E-Commerce Transactions Analysis\n",
    "\n",
    "## Descripción del Proyecto\n",
    "\n",
    "Este notebook analiza transacciones de comercio electrónico con especial enfoque en la detección de transacciones fraudulentas. Utiliza visualizaciones interactivas para explorar patrones y características de las transacciones.\n",
    "\n",
    "## Características Principales\n",
    "\n",
    "- Análisis exploratorio de datos (EDA) de transacciones comerciales\n",
    "- Detección y análisis de transacciones fraudulentas\n",
    "- Visualizaciones interactivas con Plotly\n",
    "- Filtrado y segmentación de datos\n",
    "- Métricas clave y estadísticas\n",
    "\n",
    "## Tecnologías Utilizadas\n",
    "\n",
    "- Python 3.x\n",
    "- Jupyter Notebook\n",
    "- Pandas (manipulación de datos)\n",
    "- Plotly Express (visualizaciones interactivas)\n",
    "- NumPy (operaciones numéricas)\n",
    "- Matplotlib/Seaborn (visualizaciones adicionales)\n",
    "- IPython (funcionalidades interactivas)\n"
   ]
  }
 ],
 "metadata": {
  "language_info": {
   "name": "python"
  }
 },
 "nbformat": 4,
 "nbformat_minor": 5
}
